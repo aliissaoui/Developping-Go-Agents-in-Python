{
 "cells": [
  {
   "cell_type": "markdown",
   "metadata": {},
   "source": [
    "## Adaptation de namedGame à Jupyter\n",
    "\n",
    "Vous pouvez utiliser cette feuille pour visualiser un match.\n",
    "\n",
    "Pour charger vos joueurs, il faut changer leurs noms dans 'classNames' (ligne 13)"
   ]
  },
  {
   "cell_type": "code",
   "execution_count": 1,
   "metadata": {},
   "outputs": [
    {
     "name": "stdout",
     "output_type": "stream",
     "text": [
      "The game is setup with Budah playing BLACKS against Random Player playing WHITE\n",
      "Engines loaded. Ready to go.\n"
     ]
    }
   ],
   "source": [
    "''' Sorry no comments :).\n",
    "'''\n",
    "import Goban \n",
    "import importlib\n",
    "import time\n",
    "from io import StringIO\n",
    "import sys\n",
    "from IPython.display import display, HTML, clear_output\n",
    "\n",
    "# Uncomment for saving the successive SVG to PNG\n",
    "# from cairosvg import svg2png\n",
    "\n",
    "# Define here the players to load\n",
    "classNames = ['aliPlayer', 'randomPlayer']\n",
    "\n",
    "b = Goban.Board()\n",
    "\n",
    "players = []\n",
    "player1class = importlib.import_module(classNames[0])\n",
    "player1 = player1class.myPlayer()\n",
    "player1.newGame(Goban.Board._BLACK)\n",
    "players.append(player1)\n",
    "\n",
    "player2class = importlib.import_module(classNames[1])\n",
    "player2 = player2class.myPlayer()\n",
    "player2.newGame(Goban.Board._WHITE)\n",
    "players.append(player2)\n",
    "\n",
    "totalTime = [0,0] # total real time for each player\n",
    "nextplayer = 0\n",
    "nextplayercolor = Goban.Board._BLACK\n",
    "nbmoves = 1\n",
    "\n",
    "outputs = [\"\",\"\"]\n",
    "sysstdout= sys.stdout\n",
    "stringio = StringIO()\n",
    "wrongmovefrom = 0\n",
    "\n",
    "print(\"The game is setup with \" + player1.getPlayerName() + \" playing BLACKS against \" + player2.getPlayerName() + \" playing WHITE\")\n",
    "print(\"Engines loaded. Ready to go.\")\n"
   ]
  },
  {
   "cell_type": "code",
   "execution_count": 2,
   "metadata": {},
   "outputs": [
    {
     "data": {
      "text/html": [
       "<svg height=\"380\"  width=\"380\" > <svg height=\"20\" width=\"380\"><text x=\"35\" y=\"18\" font-size=\"24\" font-color=\"black\">A</text><text x=\"75\" y=\"18\" font-size=\"24\" font-color=\"black\">B</text><text x=\"115\" y=\"18\" font-size=\"24\" font-color=\"black\">C</text><text x=\"155\" y=\"18\" font-size=\"24\" font-color=\"black\">D</text><text x=\"195\" y=\"18\" font-size=\"24\" font-color=\"black\">E</text><text x=\"235\" y=\"18\" font-size=\"24\" font-color=\"black\">F</text><text x=\"275\" y=\"18\" font-size=\"24\" font-color=\"black\">G</text><text x=\"315\" y=\"18\" font-size=\"24\" font-color=\"black\">H</text><text x=\"355\" y=\"18\" font-size=\"24\" font-color=\"black\">J</text></svg><svg width=\"20\" height=\"380\"><text y=\"47\" x=\"0\" font-size=\"24\" font-color=\"black\">9</text><text y=\"87\" x=\"0\" font-size=\"24\" font-color=\"black\">8</text><text y=\"127\" x=\"0\" font-size=\"24\" font-color=\"black\">7</text><text y=\"167\" x=\"0\" font-size=\"24\" font-color=\"black\">6</text><text y=\"207\" x=\"0\" font-size=\"24\" font-color=\"black\">5</text><text y=\"247\" x=\"0\" font-size=\"24\" font-color=\"black\">4</text><text y=\"287\" x=\"0\" font-size=\"24\" font-color=\"black\">3</text><text y=\"327\" x=\"0\" font-size=\"24\" font-color=\"black\">2</text><text y=\"367\" x=\"0\" font-size=\"24\" font-color=\"black\">1</text></svg> <svg x=\"20\" y=\"20\" height=\"380\" width=\"380\" > <rect x=\"0\" y=\"0\" width=\"360\" height=\"360\" fill=\"#B4927A\" />        <line x1=\"20\" y1=\"20\" x2=\"20\" y2=\"340\" stroke-width=\"4\" stroke=\"black\"/>        <line x1=\"340\" y1=\"20\" x2=\"20\" y2=\"20\" stroke-width=\"4\" stroke=\"black\"/>        <line x1=\"340\" y1=\"340\" x2=\"340\" y2=\"20\" stroke-width=\"4\" stroke=\"black\"/>        <line x1=\"20\" y1=\"340\" x2=\"340\" y2=\"340\" stroke-width=\"4\" stroke=\"black\"/><line x1=\"166.66666666666666\" y1=\"180\" x2=\"193.33333333333334\" y2=\"180\" stroke-width=\"3\" stroke=\"black\" /><line x1=\"180\" y1=\"166.66666666666666\" x2=\"180\" y2=\"193.33333333333334\" stroke-width=\"3\" stroke=\"black\" /><line x1=\"86.66666666666667\" y1=\"100\" x2=\"113.33333333333333\" y2=\"100\" stroke-width=\"3\" stroke=\"black\" /><line x1=\"100\" y1=\"86.66666666666667\" x2=\"100\" y2=\"113.33333333333333\" stroke-width=\"3\" stroke=\"black\" /><line x1=\"246.66666666666666\" y1=\"260\" x2=\"273.3333333333333\" y2=\"260\" stroke-width=\"3\" stroke=\"black\" /><line x1=\"260\" y1=\"246.66666666666666\" x2=\"260\" y2=\"273.3333333333333\" stroke-width=\"3\" stroke=\"black\" /><line x1=\"86.66666666666667\" y1=\"260\" x2=\"113.33333333333333\" y2=\"260\" stroke-width=\"3\" stroke=\"black\" /><line x1=\"100\" y1=\"246.66666666666666\" x2=\"100\" y2=\"273.3333333333333\" stroke-width=\"3\" stroke=\"black\" /><line x1=\"246.66666666666666\" y1=\"100\" x2=\"273.3333333333333\" y2=\"100\" stroke-width=\"3\" stroke=\"black\" /><line x1=\"260\" y1=\"86.66666666666667\" x2=\"260\" y2=\"113.33333333333333\" stroke-width=\"3\" stroke=\"black\" /><line x1=\"60\" y1=\"20\" x2=\"60\" y2=\"340\" stroke-width=\"2\" stroke=\"#444444\"/><line y1=\"60\" x1=\"20\" y2=\"60\" x2=\"340\" stroke-width=\"2\" stroke=\"#444444\"/><line x1=\"100\" y1=\"20\" x2=\"100\" y2=\"340\" stroke-width=\"2\" stroke=\"#444444\"/><line y1=\"100\" x1=\"20\" y2=\"100\" x2=\"340\" stroke-width=\"2\" stroke=\"#444444\"/><line x1=\"140\" y1=\"20\" x2=\"140\" y2=\"340\" stroke-width=\"2\" stroke=\"#444444\"/><line y1=\"140\" x1=\"20\" y2=\"140\" x2=\"340\" stroke-width=\"2\" stroke=\"#444444\"/><line x1=\"180\" y1=\"20\" x2=\"180\" y2=\"340\" stroke-width=\"2\" stroke=\"#444444\"/><line y1=\"180\" x1=\"20\" y2=\"180\" x2=\"340\" stroke-width=\"2\" stroke=\"#444444\"/><line x1=\"220\" y1=\"20\" x2=\"220\" y2=\"340\" stroke-width=\"2\" stroke=\"#444444\"/><line y1=\"220\" x1=\"20\" y2=\"220\" x2=\"340\" stroke-width=\"2\" stroke=\"#444444\"/><line x1=\"260\" y1=\"20\" x2=\"260\" y2=\"340\" stroke-width=\"2\" stroke=\"#444444\"/><line y1=\"260\" x1=\"20\" y2=\"260\" x2=\"340\" stroke-width=\"2\" stroke=\"#444444\"/><line x1=\"300\" y1=\"20\" x2=\"300\" y2=\"340\" stroke-width=\"2\" stroke=\"#444444\"/><line y1=\"300\" x1=\"20\" y2=\"300\" x2=\"340\" stroke-width=\"2\" stroke=\"#444444\"/><circle cx=\"100\" cy=\"20\" r=\"16\" stroke=\"#333333\" stroke-width=\"3\" fill=\"white\" /><circle cx=\"180\" cy=\"180\" r=\"16\" stroke=\"#333333\" stroke-width=\"3\" fill=\"black\" /><circle cx=\"180\" cy=\"140\" r=\"16\" stroke=\"#333333\" stroke-width=\"3\" fill=\"black\" /><circle cx=\"180\" cy=\"20\" r=\"16\" stroke=\"#333333\" stroke-width=\"3\" fill=\"white\" /><circle cx=\"300\" cy=\"300\" r=\"16\" stroke=\"#333333\" stroke-width=\"3\" fill=\"white\" /><circle cx=\"340\" cy=\"260\" r=\"16\" stroke=\"#333333\" stroke-width=\"3\" fill=\"black\" /></svg></svg>"
      ],
      "text/plain": [
       "<IPython.core.display.HTML object>"
      ]
     },
     "metadata": {},
     "output_type": "display_data"
    },
    {
     "name": "stdout",
     "output_type": "stream",
     "text": [
      "Legal Moves:  ['A1', 'B1', 'C1', 'D1', 'E1', 'F1', 'G1', 'H1', 'J1', 'A2', 'B2', 'C2', 'D2', 'E2', 'F2', 'G2', 'J2', 'A3', 'B3', 'C3', 'D3', 'E3', 'F3', 'G3', 'H3', 'A4', 'B4', 'C4', 'D4', 'E4', 'F4', 'G4', 'H4', 'J4', 'A5', 'B5', 'C5', 'D5', 'F5', 'G5', 'H5', 'J5', 'A6', 'B6', 'C6', 'D6', 'F6', 'G6', 'H6', 'J6', 'A7', 'B7', 'C7', 'D7', 'E7', 'F7', 'G7', 'H7', 'J7', 'A8', 'B8', 'C8', 'D8', 'E8', 'F8', 'G8', 'H8', 'J8', 'A9', 'B9', 'D9', 'F9', 'G9', 'H9', 'J9', 'PASS']\n",
      "-------------------------------- TURN  4  --------------------\n",
      "time:  0.017073392868041992\n"
     ]
    },
    {
     "ename": "KeyboardInterrupt",
     "evalue": "",
     "output_type": "error",
     "traceback": [
      "\u001b[0;31m---------------------------------------------------------------------------\u001b[0m",
      "\u001b[0;31mKeyboardInterrupt\u001b[0m                         Traceback (most recent call last)",
      "\u001b[0;32m<ipython-input-2-b071410343ff>\u001b[0m in \u001b[0;36m<module>\u001b[0;34m\u001b[0m\n\u001b[1;32m     14\u001b[0m     \u001b[0mcurrentTime\u001b[0m \u001b[0;34m=\u001b[0m \u001b[0mtime\u001b[0m\u001b[0;34m.\u001b[0m\u001b[0mtime\u001b[0m\u001b[0;34m(\u001b[0m\u001b[0;34m)\u001b[0m\u001b[0;34m\u001b[0m\u001b[0;34m\u001b[0m\u001b[0m\n\u001b[1;32m     15\u001b[0m     \u001b[0;31m#sys.stdout = stringio\u001b[0m\u001b[0;34m\u001b[0m\u001b[0;34m\u001b[0m\u001b[0;34m\u001b[0m\u001b[0m\n\u001b[0;32m---> 16\u001b[0;31m     \u001b[0mmove\u001b[0m \u001b[0;34m=\u001b[0m \u001b[0mplayers\u001b[0m\u001b[0;34m[\u001b[0m\u001b[0mnextplayer\u001b[0m\u001b[0;34m]\u001b[0m\u001b[0;34m.\u001b[0m\u001b[0mgetPlayerMove\u001b[0m\u001b[0;34m(\u001b[0m\u001b[0;34m)\u001b[0m \u001b[0;31m# The move must be given by \"A1\", ... \"J8\" string coordinates (not as an internal move)\u001b[0m\u001b[0;34m\u001b[0m\u001b[0;34m\u001b[0m\u001b[0m\n\u001b[0m\u001b[1;32m     17\u001b[0m     \u001b[0;31m#sys.stdout = sysstdout\u001b[0m\u001b[0;34m\u001b[0m\u001b[0;34m\u001b[0m\u001b[0;34m\u001b[0m\u001b[0m\n\u001b[1;32m     18\u001b[0m     \u001b[0mplayeroutput\u001b[0m \u001b[0;34m=\u001b[0m \u001b[0mstringio\u001b[0m\u001b[0;34m.\u001b[0m\u001b[0mgetvalue\u001b[0m\u001b[0;34m(\u001b[0m\u001b[0;34m)\u001b[0m\u001b[0;34m\u001b[0m\u001b[0;34m\u001b[0m\u001b[0m\n",
      "\u001b[0;32m~/Desktop/Projects/S8/ia-if243-iabi/src/aliPlayer.py\u001b[0m in \u001b[0;36mgetPlayerMove\u001b[0;34m(self)\u001b[0m\n\u001b[1;32m     99\u001b[0m             \u001b[0;31m#move, v = self.IDS_AB_threaded(5)\u001b[0m\u001b[0;34m\u001b[0m\u001b[0;34m\u001b[0m\u001b[0;34m\u001b[0m\u001b[0m\n\u001b[1;32m    100\u001b[0m             \u001b[0;31m#move, v = self.AlphaBetaCoupThreaded(self._board, 2)\u001b[0m\u001b[0;34m\u001b[0m\u001b[0;34m\u001b[0m\u001b[0;34m\u001b[0m\u001b[0m\n\u001b[0;32m--> 101\u001b[0;31m             \u001b[0mmove\u001b[0m\u001b[0;34m,\u001b[0m \u001b[0mv\u001b[0m \u001b[0;34m=\u001b[0m \u001b[0mself\u001b[0m\u001b[0;34m.\u001b[0m\u001b[0mIDS\u001b[0m\u001b[0;34m.\u001b[0m\u001b[0mNG\u001b[0m\u001b[0;34m.\u001b[0m\u001b[0mNegamax_coup\u001b[0m\u001b[0;34m(\u001b[0m\u001b[0mself\u001b[0m\u001b[0;34m.\u001b[0m\u001b[0m_board\u001b[0m\u001b[0;34m,\u001b[0m \u001b[0;36m3\u001b[0m\u001b[0;34m,\u001b[0m \u001b[0mself\u001b[0m\u001b[0;34m.\u001b[0m\u001b[0m_turn\u001b[0m\u001b[0;34m)\u001b[0m\u001b[0;34m\u001b[0m\u001b[0;34m\u001b[0m\u001b[0m\n\u001b[0m\u001b[1;32m    102\u001b[0m             \u001b[0;31m#move, v = self.IDS.IDS_NG(self._board, 5, self._turn)\u001b[0m\u001b[0;34m\u001b[0m\u001b[0;34m\u001b[0m\u001b[0;34m\u001b[0m\u001b[0m\n\u001b[1;32m    103\u001b[0m             \u001b[0;31m#move, v = self.IDS_NG(5)\u001b[0m\u001b[0;34m\u001b[0m\u001b[0;34m\u001b[0m\u001b[0;34m\u001b[0m\u001b[0m\n",
      "\u001b[0;32m~/Desktop/Projects/S8/ia-if243-iabi/src/negaMax.py\u001b[0m in \u001b[0;36mNegamax_coup\u001b[0;34m(self, b, depth, turn)\u001b[0m\n\u001b[1;32m     66\u001b[0m             \u001b[0mb\u001b[0m\u001b[0;34m.\u001b[0m\u001b[0mpush\u001b[0m\u001b[0;34m(\u001b[0m\u001b[0mm\u001b[0m\u001b[0;34m)\u001b[0m\u001b[0;34m\u001b[0m\u001b[0;34m\u001b[0m\u001b[0m\n\u001b[1;32m     67\u001b[0m             \u001b[0mt\u001b[0m \u001b[0;34m=\u001b[0m \u001b[0mtime\u001b[0m\u001b[0;34m.\u001b[0m\u001b[0mtime\u001b[0m\u001b[0;34m(\u001b[0m\u001b[0;34m)\u001b[0m\u001b[0;34m\u001b[0m\u001b[0;34m\u001b[0m\u001b[0m\n\u001b[0;32m---> 68\u001b[0;31m             \u001b[0mret\u001b[0m \u001b[0;34m=\u001b[0m \u001b[0mself\u001b[0m\u001b[0;34m.\u001b[0m\u001b[0mNegamax\u001b[0m\u001b[0;34m(\u001b[0m\u001b[0mb\u001b[0m\u001b[0;34m,\u001b[0m \u001b[0mdepth\u001b[0m \u001b[0;34m-\u001b[0m \u001b[0;36m1\u001b[0m\u001b[0;34m,\u001b[0m \u001b[0;34m-\u001b[0m\u001b[0mself\u001b[0m\u001b[0;34m.\u001b[0m\u001b[0m_maxscore\u001b[0m\u001b[0;34m,\u001b[0m \u001b[0mself\u001b[0m\u001b[0;34m.\u001b[0m\u001b[0m_maxscore\u001b[0m\u001b[0;34m,\u001b[0m \u001b[0mself\u001b[0m\u001b[0;34m.\u001b[0m\u001b[0m_mycolor\u001b[0m\u001b[0;34m)\u001b[0m\u001b[0;34m\u001b[0m\u001b[0;34m\u001b[0m\u001b[0m\n\u001b[0m\u001b[1;32m     69\u001b[0m             \u001b[0;31m#print(\"Coup: \", b.flat_to_name(m), \"valeur: \", ret, \" temps: \", time.time()-t)\u001b[0m\u001b[0;34m\u001b[0m\u001b[0;34m\u001b[0m\u001b[0;34m\u001b[0m\u001b[0m\n\u001b[1;32m     70\u001b[0m \u001b[0;34m\u001b[0m\u001b[0m\n",
      "\u001b[0;32m~/Desktop/Projects/S8/ia-if243-iabi/src/negaMax.py\u001b[0m in \u001b[0;36mNegamax\u001b[0;34m(self, b, depth, alpha, beta, color)\u001b[0m\n\u001b[1;32m     32\u001b[0m         \u001b[0;32mfor\u001b[0m \u001b[0mmove\u001b[0m \u001b[0;32min\u001b[0m \u001b[0mmoves\u001b[0m\u001b[0;34m:\u001b[0m\u001b[0;34m\u001b[0m\u001b[0;34m\u001b[0m\u001b[0m\n\u001b[1;32m     33\u001b[0m             \u001b[0mb\u001b[0m\u001b[0;34m.\u001b[0m\u001b[0mpush\u001b[0m\u001b[0;34m(\u001b[0m\u001b[0mmove\u001b[0m\u001b[0;34m)\u001b[0m\u001b[0;34m\u001b[0m\u001b[0;34m\u001b[0m\u001b[0m\n\u001b[0;32m---> 34\u001b[0;31m             \u001b[0mmax_score\u001b[0m \u001b[0;34m=\u001b[0m \u001b[0mmax\u001b[0m\u001b[0;34m(\u001b[0m \u001b[0mmax_score\u001b[0m\u001b[0;34m,\u001b[0m \u001b[0;34m-\u001b[0m\u001b[0mself\u001b[0m\u001b[0;34m.\u001b[0m\u001b[0mNegamax\u001b[0m\u001b[0;34m(\u001b[0m\u001b[0mb\u001b[0m\u001b[0;34m,\u001b[0m \u001b[0mdepth\u001b[0m\u001b[0;34m-\u001b[0m\u001b[0;36m1\u001b[0m\u001b[0;34m,\u001b[0m \u001b[0;34m-\u001b[0m\u001b[0mbeta\u001b[0m\u001b[0;34m,\u001b[0m \u001b[0;34m-\u001b[0m\u001b[0malpha\u001b[0m\u001b[0;34m,\u001b[0m \u001b[0;34m-\u001b[0m\u001b[0mcolor\u001b[0m\u001b[0;34m)\u001b[0m\u001b[0;34m)\u001b[0m\u001b[0;34m\u001b[0m\u001b[0;34m\u001b[0m\u001b[0m\n\u001b[0m\u001b[1;32m     35\u001b[0m             \u001b[0mb\u001b[0m \u001b[0;34m.\u001b[0m \u001b[0mpop\u001b[0m\u001b[0;34m(\u001b[0m\u001b[0;34m)\u001b[0m\u001b[0;34m\u001b[0m\u001b[0;34m\u001b[0m\u001b[0m\n\u001b[1;32m     36\u001b[0m \u001b[0;34m\u001b[0m\u001b[0m\n",
      "\u001b[0;32m~/Desktop/Projects/S8/ia-if243-iabi/src/negaMax.py\u001b[0m in \u001b[0;36mNegamax\u001b[0;34m(self, b, depth, alpha, beta, color)\u001b[0m\n\u001b[1;32m     32\u001b[0m         \u001b[0;32mfor\u001b[0m \u001b[0mmove\u001b[0m \u001b[0;32min\u001b[0m \u001b[0mmoves\u001b[0m\u001b[0;34m:\u001b[0m\u001b[0;34m\u001b[0m\u001b[0;34m\u001b[0m\u001b[0m\n\u001b[1;32m     33\u001b[0m             \u001b[0mb\u001b[0m\u001b[0;34m.\u001b[0m\u001b[0mpush\u001b[0m\u001b[0;34m(\u001b[0m\u001b[0mmove\u001b[0m\u001b[0;34m)\u001b[0m\u001b[0;34m\u001b[0m\u001b[0;34m\u001b[0m\u001b[0m\n\u001b[0;32m---> 34\u001b[0;31m             \u001b[0mmax_score\u001b[0m \u001b[0;34m=\u001b[0m \u001b[0mmax\u001b[0m\u001b[0;34m(\u001b[0m \u001b[0mmax_score\u001b[0m\u001b[0;34m,\u001b[0m \u001b[0;34m-\u001b[0m\u001b[0mself\u001b[0m\u001b[0;34m.\u001b[0m\u001b[0mNegamax\u001b[0m\u001b[0;34m(\u001b[0m\u001b[0mb\u001b[0m\u001b[0;34m,\u001b[0m \u001b[0mdepth\u001b[0m\u001b[0;34m-\u001b[0m\u001b[0;36m1\u001b[0m\u001b[0;34m,\u001b[0m \u001b[0;34m-\u001b[0m\u001b[0mbeta\u001b[0m\u001b[0;34m,\u001b[0m \u001b[0;34m-\u001b[0m\u001b[0malpha\u001b[0m\u001b[0;34m,\u001b[0m \u001b[0;34m-\u001b[0m\u001b[0mcolor\u001b[0m\u001b[0;34m)\u001b[0m\u001b[0;34m)\u001b[0m\u001b[0;34m\u001b[0m\u001b[0;34m\u001b[0m\u001b[0m\n\u001b[0m\u001b[1;32m     35\u001b[0m             \u001b[0mb\u001b[0m \u001b[0;34m.\u001b[0m \u001b[0mpop\u001b[0m\u001b[0;34m(\u001b[0m\u001b[0;34m)\u001b[0m\u001b[0;34m\u001b[0m\u001b[0;34m\u001b[0m\u001b[0m\n\u001b[1;32m     36\u001b[0m \u001b[0;34m\u001b[0m\u001b[0m\n",
      "\u001b[0;32m~/Desktop/Projects/S8/ia-if243-iabi/src/negaMax.py\u001b[0m in \u001b[0;36mNegamax\u001b[0;34m(self, b, depth, alpha, beta, color)\u001b[0m\n\u001b[1;32m     24\u001b[0m \u001b[0;34m\u001b[0m\u001b[0m\n\u001b[1;32m     25\u001b[0m         \u001b[0;32mif\u001b[0m \u001b[0mdepth\u001b[0m \u001b[0;34m==\u001b[0m \u001b[0;36m0\u001b[0m\u001b[0;34m:\u001b[0m\u001b[0;34m\u001b[0m\u001b[0;34m\u001b[0m\u001b[0m\n\u001b[0;32m---> 26\u001b[0;31m             \u001b[0me\u001b[0m\u001b[0;34m=\u001b[0m \u001b[0mcolor\u001b[0m \u001b[0;34m*\u001b[0m \u001b[0mself\u001b[0m\u001b[0;34m.\u001b[0m\u001b[0m_eval\u001b[0m\u001b[0;34m.\u001b[0m\u001b[0mevaluate\u001b[0m\u001b[0;34m(\u001b[0m\u001b[0mb\u001b[0m\u001b[0;34m)\u001b[0m\u001b[0;34m\u001b[0m\u001b[0;34m\u001b[0m\u001b[0m\n\u001b[0m\u001b[1;32m     27\u001b[0m             \u001b[0;32mreturn\u001b[0m \u001b[0me\u001b[0m\u001b[0;34m\u001b[0m\u001b[0;34m\u001b[0m\u001b[0m\n\u001b[1;32m     28\u001b[0m \u001b[0;34m\u001b[0m\u001b[0m\n",
      "\u001b[0;32m~/Desktop/Projects/S8/ia-if243-iabi/src/eval.py\u001b[0m in \u001b[0;36mevaluate\u001b[0;34m(self, b)\u001b[0m\n\u001b[1;32m    195\u001b[0m \u001b[0;34m\u001b[0m\u001b[0m\n\u001b[1;32m    196\u001b[0m         \u001b[0;31m# connecting stones and eyes making with euler number\u001b[0m\u001b[0;34m\u001b[0m\u001b[0;34m\u001b[0m\u001b[0;34m\u001b[0m\u001b[0m\n\u001b[0;32m--> 197\u001b[0;31m         \u001b[0mgoal6\u001b[0m \u001b[0;34m=\u001b[0m \u001b[0mself\u001b[0m\u001b[0;34m.\u001b[0m\u001b[0mEulerNumber\u001b[0m\u001b[0;34m(\u001b[0m\u001b[0mb\u001b[0m\u001b[0;34m)\u001b[0m\u001b[0;34m\u001b[0m\u001b[0;34m\u001b[0m\u001b[0m\n\u001b[0m\u001b[1;32m    198\u001b[0m         \u001b[0mscore\u001b[0m \u001b[0;34m-=\u001b[0m \u001b[0mgoal6\u001b[0m\u001b[0;34m\u001b[0m\u001b[0;34m\u001b[0m\u001b[0m\n\u001b[1;32m    199\u001b[0m \u001b[0;34m\u001b[0m\u001b[0m\n",
      "\u001b[0;32m~/Desktop/Projects/S8/ia-if243-iabi/src/eval.py\u001b[0m in \u001b[0;36mEulerNumber\u001b[0;34m(self, b)\u001b[0m\n\u001b[1;32m    123\u001b[0m             \u001b[0;32mfor\u001b[0m \u001b[0mi\u001b[0m \u001b[0;32min\u001b[0m \u001b[0mrange\u001b[0m\u001b[0;34m(\u001b[0m\u001b[0;36m4\u001b[0m\u001b[0;34m)\u001b[0m\u001b[0;34m:\u001b[0m\u001b[0;34m\u001b[0m\u001b[0;34m\u001b[0m\u001b[0m\n\u001b[1;32m    124\u001b[0m                 \u001b[0;32mif\u001b[0m \u001b[0;34m(\u001b[0m\u001b[0mb\u001b[0m\u001b[0;34m.\u001b[0m\u001b[0m_isOnBoard\u001b[0m\u001b[0;34m(\u001b[0m\u001b[0mstones_set\u001b[0m\u001b[0;34m[\u001b[0m\u001b[0mi\u001b[0m\u001b[0;34m]\u001b[0m\u001b[0;34m[\u001b[0m\u001b[0;36m0\u001b[0m\u001b[0;34m]\u001b[0m\u001b[0;34m,\u001b[0m \u001b[0mstones_set\u001b[0m\u001b[0;34m[\u001b[0m\u001b[0mi\u001b[0m\u001b[0;34m]\u001b[0m\u001b[0;34m[\u001b[0m\u001b[0;36m1\u001b[0m\u001b[0;34m]\u001b[0m\u001b[0;34m)\u001b[0m\u001b[0;34m)\u001b[0m\u001b[0;34m:\u001b[0m\u001b[0;34m\u001b[0m\u001b[0;34m\u001b[0m\u001b[0m\n\u001b[0;32m--> 125\u001b[0;31m                     \u001b[0mmy_set\u001b[0m\u001b[0;34m[\u001b[0m\u001b[0mi\u001b[0m\u001b[0;34m]\u001b[0m \u001b[0;34m=\u001b[0m \u001b[0;34m(\u001b[0m\u001b[0mb\u001b[0m\u001b[0;34m[\u001b[0m\u001b[0mb\u001b[0m\u001b[0;34m.\u001b[0m\u001b[0mflatten\u001b[0m\u001b[0;34m(\u001b[0m\u001b[0mstones_set\u001b[0m\u001b[0;34m[\u001b[0m\u001b[0mi\u001b[0m\u001b[0;34m]\u001b[0m\u001b[0;34m)\u001b[0m\u001b[0;34m]\u001b[0m \u001b[0;34m==\u001b[0m \u001b[0mself\u001b[0m\u001b[0;34m.\u001b[0m\u001b[0m_mycolor\u001b[0m\u001b[0;34m)\u001b[0m\u001b[0;34m\u001b[0m\u001b[0;34m\u001b[0m\u001b[0m\n\u001b[0m\u001b[1;32m    126\u001b[0m                     \u001b[0mop_set\u001b[0m\u001b[0;34m[\u001b[0m\u001b[0mi\u001b[0m\u001b[0;34m]\u001b[0m \u001b[0;34m=\u001b[0m \u001b[0;34m(\u001b[0m\u001b[0mb\u001b[0m\u001b[0;34m[\u001b[0m\u001b[0mb\u001b[0m\u001b[0;34m.\u001b[0m\u001b[0mflatten\u001b[0m\u001b[0;34m(\u001b[0m\u001b[0mstones_set\u001b[0m\u001b[0;34m[\u001b[0m\u001b[0mi\u001b[0m\u001b[0;34m]\u001b[0m\u001b[0;34m)\u001b[0m\u001b[0;34m]\u001b[0m \u001b[0;34m==\u001b[0m \u001b[0;36m3\u001b[0m\u001b[0;34m-\u001b[0m\u001b[0mself\u001b[0m\u001b[0;34m.\u001b[0m\u001b[0m_mycolor\u001b[0m\u001b[0;34m)\u001b[0m\u001b[0;34m\u001b[0m\u001b[0;34m\u001b[0m\u001b[0m\n\u001b[1;32m    127\u001b[0m                 \u001b[0;32melse\u001b[0m\u001b[0;34m:\u001b[0m\u001b[0;34m\u001b[0m\u001b[0;34m\u001b[0m\u001b[0m\n",
      "\u001b[0;32m~/Desktop/Projects/S8/ia-if243-iabi/src/Goban.py\u001b[0m in \u001b[0;36m__getitem__\u001b[0;34m(self, key)\u001b[0m\n\u001b[1;32m    165\u001b[0m \u001b[0;34m\u001b[0m\u001b[0m\n\u001b[1;32m    166\u001b[0m     '''\n\u001b[0;32m--> 167\u001b[0;31m     \u001b[0;32mdef\u001b[0m \u001b[0m__getitem__\u001b[0m\u001b[0;34m(\u001b[0m\u001b[0mself\u001b[0m\u001b[0;34m,\u001b[0m \u001b[0mkey\u001b[0m\u001b[0;34m)\u001b[0m\u001b[0;34m:\u001b[0m\u001b[0;34m\u001b[0m\u001b[0;34m\u001b[0m\u001b[0m\n\u001b[0m\u001b[1;32m    168\u001b[0m         ''' Helper access to the board, from flatten coordinates (in [0 .. Board.BOARDSIZE**2]). \n\u001b[1;32m    169\u001b[0m         \u001b[0mRead\u001b[0m \u001b[0mOnly\u001b[0m \u001b[0marray\u001b[0m\u001b[0;34m.\u001b[0m \u001b[0mIf\u001b[0m \u001b[0myou\u001b[0m \u001b[0mwant\u001b[0m \u001b[0mto\u001b[0m \u001b[0madd\u001b[0m \u001b[0ma\u001b[0m \u001b[0mstone\u001b[0m \u001b[0mon\u001b[0m \u001b[0mthe\u001b[0m \u001b[0mboard\u001b[0m\u001b[0;34m,\u001b[0m \u001b[0myou\u001b[0m \u001b[0mhave\u001b[0m \u001b[0mto\u001b[0m \u001b[0muse\u001b[0m\u001b[0;34m\u001b[0m\u001b[0;34m\u001b[0m\u001b[0m\n",
      "\u001b[0;31mKeyboardInterrupt\u001b[0m: "
     ]
    }
   ],
   "source": [
    "coup = 1\n",
    "while not b.is_game_over():\n",
    "    print(\"Referee Board:\")\n",
    "    clear_output(wait=True)\n",
    "    display(HTML(b.svg()))\n",
    "    #svg2png(bytestring=b.svg(),write_to='output-'+str(coup).zfill(4)+'.png')\n",
    "    legals = b.legal_moves() # legal moves are given as internal (flat) coordinates, not A1, A2, ...\n",
    "\n",
    "    print(\"Legal Moves: \", [b.move_to_str(m) for m in legals]) # I have to use this wrapper if I want to print them\n",
    "    nbmoves += 1\n",
    "    otherplayer = (nextplayer + 1) % 2\n",
    "    othercolor = Goban.Board.flip(nextplayercolor)\n",
    "    \n",
    "    currentTime = time.time()\n",
    "    #sys.stdout = stringio\n",
    "    move = players[nextplayer].getPlayerMove() # The move must be given by \"A1\", ... \"J8\" string coordinates (not as an internal move)\n",
    "    #sys.stdout = sysstdout\n",
    "    playeroutput = stringio.getvalue()\n",
    "    stringio.truncate(0)\n",
    "    stringio.seek(0)\n",
    "    print((\"[Player \"+str(nextplayer) + \"] \").join(playeroutput.splitlines(True)))\n",
    "    outputs[nextplayer] += playeroutput\n",
    "    totalTime[nextplayer] += time.time() - currentTime\n",
    "    print(\"Player \", nextplayercolor, players[nextplayer].getPlayerName(), \"plays: \" + move) #changed \n",
    "\n",
    "    if not Goban.Board.name_to_flat(move) in legals:\n",
    "        print(otherplayer, nextplayer, nextplayercolor)\n",
    "        print(\"Problem: illegal move\")\n",
    "        wrongmovefrom = nextplayercolor\n",
    "        break\n",
    "    b.push(Goban.Board.name_to_flat(move)) # Here I have to internally flatten the move to be able to check it.\n",
    "    players[otherplayer].playOpponentMove(move)\n",
    " \n",
    "    nextplayer = otherplayer\n",
    "    nextplayercolor = othercolor\n",
    "    time.sleep(1)\n",
    "    coup += 1\n",
    "\n",
    "print(\"The game is over\")\n",
    "b.prettyPrint()\n",
    "result = b.result()\n",
    "print(\"Time:\", totalTime)\n",
    "print(\"GO Score:\", b.final_go_score())\n",
    "print(\"Winner: \", end=\"\")\n",
    "if wrongmovefrom > 0:\n",
    "    if wrongmovefrom == b._WHITE:\n",
    "        print(\"BLACK\")\n",
    "    elif wrongmovefrom == b._BLACK:\n",
    "        print(\"WHITE\")\n",
    "    else:\n",
    "        print(\"ERROR\")\n",
    "elif result == \"1-0\":\n",
    "    print(\"WHITE\")\n",
    "elif result == \"0-1\":\n",
    "    print(\"BLACK\")\n",
    "else:\n",
    "    print(\"DEUCE\")\n",
    "\n",
    "# To convert png files to animated gif    \n",
    "#convert -delay 10 -loop 0 *.png -background white -alpha remove -alpha off output.gif\n",
    "\n"
   ]
  },
  {
   "cell_type": "code",
   "execution_count": null,
   "metadata": {},
   "outputs": [],
   "source": []
  },
  {
   "cell_type": "code",
   "execution_count": null,
   "metadata": {},
   "outputs": [],
   "source": []
  },
  {
   "cell_type": "code",
   "execution_count": null,
   "metadata": {},
   "outputs": [],
   "source": []
  },
  {
   "cell_type": "code",
   "execution_count": null,
   "metadata": {},
   "outputs": [],
   "source": []
  }
 ],
 "metadata": {
  "kernelspec": {
   "display_name": "Python 3",
   "language": "python",
   "name": "python3"
  },
  "language_info": {
   "codemirror_mode": {
    "name": "ipython",
    "version": 3
   },
   "file_extension": ".py",
   "mimetype": "text/x-python",
   "name": "python",
   "nbconvert_exporter": "python",
   "pygments_lexer": "ipython3",
   "version": "3.7.4"
  }
 },
 "nbformat": 4,
 "nbformat_minor": 2
}
